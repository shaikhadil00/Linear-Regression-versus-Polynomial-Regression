{
 "cells": [
  {
   "cell_type": "code",
   "execution_count": 4,
   "id": "93eeaddd",
   "metadata": {},
   "outputs": [],
   "source": [
    "import pandas as pd\n",
    "import matplotlib.pyplot as plt\n",
    "%matplotlib inline"
   ]
  },
  {
   "cell_type": "markdown",
   "id": "2f68b420",
   "metadata": {},
   "source": [
    "STEPS : -\n",
    "    \n",
    "DATA FRAME\n",
    "x & y Variables\n",
    "#From sklearn.model selection import train_test_split\n",
    "\n",
    "From sklearn.linear_model import LinearRegression\n",
    "From sklearn.preprocessing import Polynomial Features\n",
    "\n",
    "object\n",
    "fit\n",
    "predict \n",
    "graph\n",
    "score"
   ]
  },
  {
   "cell_type": "code",
   "execution_count": 5,
   "id": "6a2d110b",
   "metadata": {},
   "outputs": [],
   "source": [
    "df = pd.read_csv(\"multiple_linear_regression_dataset[1].csv\")"
   ]
  },
  {
   "cell_type": "code",
   "execution_count": 6,
   "id": "25b1a8b4",
   "metadata": {},
   "outputs": [
    {
     "data": {
      "text/html": [
       "<div>\n",
       "<style scoped>\n",
       "    .dataframe tbody tr th:only-of-type {\n",
       "        vertical-align: middle;\n",
       "    }\n",
       "\n",
       "    .dataframe tbody tr th {\n",
       "        vertical-align: top;\n",
       "    }\n",
       "\n",
       "    .dataframe thead th {\n",
       "        text-align: right;\n",
       "    }\n",
       "</style>\n",
       "<table border=\"1\" class=\"dataframe\">\n",
       "  <thead>\n",
       "    <tr style=\"text-align: right;\">\n",
       "      <th></th>\n",
       "      <th>age</th>\n",
       "      <th>experience</th>\n",
       "      <th>income</th>\n",
       "    </tr>\n",
       "  </thead>\n",
       "  <tbody>\n",
       "    <tr>\n",
       "      <th>0</th>\n",
       "      <td>25</td>\n",
       "      <td>1</td>\n",
       "      <td>30450</td>\n",
       "    </tr>\n",
       "    <tr>\n",
       "      <th>1</th>\n",
       "      <td>30</td>\n",
       "      <td>3</td>\n",
       "      <td>35670</td>\n",
       "    </tr>\n",
       "    <tr>\n",
       "      <th>2</th>\n",
       "      <td>47</td>\n",
       "      <td>2</td>\n",
       "      <td>31580</td>\n",
       "    </tr>\n",
       "    <tr>\n",
       "      <th>3</th>\n",
       "      <td>32</td>\n",
       "      <td>5</td>\n",
       "      <td>40130</td>\n",
       "    </tr>\n",
       "    <tr>\n",
       "      <th>4</th>\n",
       "      <td>43</td>\n",
       "      <td>10</td>\n",
       "      <td>47830</td>\n",
       "    </tr>\n",
       "    <tr>\n",
       "      <th>5</th>\n",
       "      <td>51</td>\n",
       "      <td>7</td>\n",
       "      <td>41630</td>\n",
       "    </tr>\n",
       "    <tr>\n",
       "      <th>6</th>\n",
       "      <td>28</td>\n",
       "      <td>5</td>\n",
       "      <td>41340</td>\n",
       "    </tr>\n",
       "    <tr>\n",
       "      <th>7</th>\n",
       "      <td>33</td>\n",
       "      <td>4</td>\n",
       "      <td>37650</td>\n",
       "    </tr>\n",
       "    <tr>\n",
       "      <th>8</th>\n",
       "      <td>37</td>\n",
       "      <td>5</td>\n",
       "      <td>40250</td>\n",
       "    </tr>\n",
       "    <tr>\n",
       "      <th>9</th>\n",
       "      <td>39</td>\n",
       "      <td>8</td>\n",
       "      <td>45150</td>\n",
       "    </tr>\n",
       "    <tr>\n",
       "      <th>10</th>\n",
       "      <td>29</td>\n",
       "      <td>1</td>\n",
       "      <td>27840</td>\n",
       "    </tr>\n",
       "    <tr>\n",
       "      <th>11</th>\n",
       "      <td>47</td>\n",
       "      <td>9</td>\n",
       "      <td>46110</td>\n",
       "    </tr>\n",
       "    <tr>\n",
       "      <th>12</th>\n",
       "      <td>54</td>\n",
       "      <td>5</td>\n",
       "      <td>36720</td>\n",
       "    </tr>\n",
       "    <tr>\n",
       "      <th>13</th>\n",
       "      <td>51</td>\n",
       "      <td>4</td>\n",
       "      <td>34800</td>\n",
       "    </tr>\n",
       "    <tr>\n",
       "      <th>14</th>\n",
       "      <td>44</td>\n",
       "      <td>12</td>\n",
       "      <td>51300</td>\n",
       "    </tr>\n",
       "    <tr>\n",
       "      <th>15</th>\n",
       "      <td>41</td>\n",
       "      <td>6</td>\n",
       "      <td>38900</td>\n",
       "    </tr>\n",
       "    <tr>\n",
       "      <th>16</th>\n",
       "      <td>58</td>\n",
       "      <td>17</td>\n",
       "      <td>63600</td>\n",
       "    </tr>\n",
       "    <tr>\n",
       "      <th>17</th>\n",
       "      <td>23</td>\n",
       "      <td>1</td>\n",
       "      <td>30870</td>\n",
       "    </tr>\n",
       "    <tr>\n",
       "      <th>18</th>\n",
       "      <td>44</td>\n",
       "      <td>9</td>\n",
       "      <td>44190</td>\n",
       "    </tr>\n",
       "    <tr>\n",
       "      <th>19</th>\n",
       "      <td>37</td>\n",
       "      <td>10</td>\n",
       "      <td>48700</td>\n",
       "    </tr>\n",
       "  </tbody>\n",
       "</table>\n",
       "</div>"
      ],
      "text/plain": [
       "    age  experience  income\n",
       "0    25           1   30450\n",
       "1    30           3   35670\n",
       "2    47           2   31580\n",
       "3    32           5   40130\n",
       "4    43          10   47830\n",
       "5    51           7   41630\n",
       "6    28           5   41340\n",
       "7    33           4   37650\n",
       "8    37           5   40250\n",
       "9    39           8   45150\n",
       "10   29           1   27840\n",
       "11   47           9   46110\n",
       "12   54           5   36720\n",
       "13   51           4   34800\n",
       "14   44          12   51300\n",
       "15   41           6   38900\n",
       "16   58          17   63600\n",
       "17   23           1   30870\n",
       "18   44           9   44190\n",
       "19   37          10   48700"
      ]
     },
     "execution_count": 6,
     "metadata": {},
     "output_type": "execute_result"
    }
   ],
   "source": [
    "df"
   ]
  },
  {
   "cell_type": "markdown",
   "id": "c2ac1d45",
   "metadata": {},
   "source": [
    "# HOW MAKE A NEW DATASET WITH IN EXISTING DATA"
   ]
  },
  {
   "cell_type": "code",
   "execution_count": 7,
   "id": "84cfecee",
   "metadata": {},
   "outputs": [],
   "source": [
    "#Assuming new dataFrame\n",
    "df1 = df[['experience','income']]"
   ]
  },
  {
   "cell_type": "code",
   "execution_count": 8,
   "id": "acc30953",
   "metadata": {},
   "outputs": [
    {
     "data": {
      "text/html": [
       "<div>\n",
       "<style scoped>\n",
       "    .dataframe tbody tr th:only-of-type {\n",
       "        vertical-align: middle;\n",
       "    }\n",
       "\n",
       "    .dataframe tbody tr th {\n",
       "        vertical-align: top;\n",
       "    }\n",
       "\n",
       "    .dataframe thead th {\n",
       "        text-align: right;\n",
       "    }\n",
       "</style>\n",
       "<table border=\"1\" class=\"dataframe\">\n",
       "  <thead>\n",
       "    <tr style=\"text-align: right;\">\n",
       "      <th></th>\n",
       "      <th>experience</th>\n",
       "      <th>income</th>\n",
       "    </tr>\n",
       "  </thead>\n",
       "  <tbody>\n",
       "    <tr>\n",
       "      <th>0</th>\n",
       "      <td>1</td>\n",
       "      <td>30450</td>\n",
       "    </tr>\n",
       "    <tr>\n",
       "      <th>1</th>\n",
       "      <td>3</td>\n",
       "      <td>35670</td>\n",
       "    </tr>\n",
       "    <tr>\n",
       "      <th>2</th>\n",
       "      <td>2</td>\n",
       "      <td>31580</td>\n",
       "    </tr>\n",
       "    <tr>\n",
       "      <th>3</th>\n",
       "      <td>5</td>\n",
       "      <td>40130</td>\n",
       "    </tr>\n",
       "    <tr>\n",
       "      <th>4</th>\n",
       "      <td>10</td>\n",
       "      <td>47830</td>\n",
       "    </tr>\n",
       "    <tr>\n",
       "      <th>5</th>\n",
       "      <td>7</td>\n",
       "      <td>41630</td>\n",
       "    </tr>\n",
       "    <tr>\n",
       "      <th>6</th>\n",
       "      <td>5</td>\n",
       "      <td>41340</td>\n",
       "    </tr>\n",
       "    <tr>\n",
       "      <th>7</th>\n",
       "      <td>4</td>\n",
       "      <td>37650</td>\n",
       "    </tr>\n",
       "    <tr>\n",
       "      <th>8</th>\n",
       "      <td>5</td>\n",
       "      <td>40250</td>\n",
       "    </tr>\n",
       "    <tr>\n",
       "      <th>9</th>\n",
       "      <td>8</td>\n",
       "      <td>45150</td>\n",
       "    </tr>\n",
       "    <tr>\n",
       "      <th>10</th>\n",
       "      <td>1</td>\n",
       "      <td>27840</td>\n",
       "    </tr>\n",
       "    <tr>\n",
       "      <th>11</th>\n",
       "      <td>9</td>\n",
       "      <td>46110</td>\n",
       "    </tr>\n",
       "    <tr>\n",
       "      <th>12</th>\n",
       "      <td>5</td>\n",
       "      <td>36720</td>\n",
       "    </tr>\n",
       "    <tr>\n",
       "      <th>13</th>\n",
       "      <td>4</td>\n",
       "      <td>34800</td>\n",
       "    </tr>\n",
       "    <tr>\n",
       "      <th>14</th>\n",
       "      <td>12</td>\n",
       "      <td>51300</td>\n",
       "    </tr>\n",
       "    <tr>\n",
       "      <th>15</th>\n",
       "      <td>6</td>\n",
       "      <td>38900</td>\n",
       "    </tr>\n",
       "    <tr>\n",
       "      <th>16</th>\n",
       "      <td>17</td>\n",
       "      <td>63600</td>\n",
       "    </tr>\n",
       "    <tr>\n",
       "      <th>17</th>\n",
       "      <td>1</td>\n",
       "      <td>30870</td>\n",
       "    </tr>\n",
       "    <tr>\n",
       "      <th>18</th>\n",
       "      <td>9</td>\n",
       "      <td>44190</td>\n",
       "    </tr>\n",
       "    <tr>\n",
       "      <th>19</th>\n",
       "      <td>10</td>\n",
       "      <td>48700</td>\n",
       "    </tr>\n",
       "  </tbody>\n",
       "</table>\n",
       "</div>"
      ],
      "text/plain": [
       "    experience  income\n",
       "0            1   30450\n",
       "1            3   35670\n",
       "2            2   31580\n",
       "3            5   40130\n",
       "4           10   47830\n",
       "5            7   41630\n",
       "6            5   41340\n",
       "7            4   37650\n",
       "8            5   40250\n",
       "9            8   45150\n",
       "10           1   27840\n",
       "11           9   46110\n",
       "12           5   36720\n",
       "13           4   34800\n",
       "14          12   51300\n",
       "15           6   38900\n",
       "16          17   63600\n",
       "17           1   30870\n",
       "18           9   44190\n",
       "19          10   48700"
      ]
     },
     "execution_count": 8,
     "metadata": {},
     "output_type": "execute_result"
    }
   ],
   "source": [
    "df1"
   ]
  },
  {
   "cell_type": "code",
   "execution_count": 9,
   "id": "3b5db6a8",
   "metadata": {},
   "outputs": [
    {
     "data": {
      "text/plain": [
       "(20, 3)"
      ]
     },
     "execution_count": 9,
     "metadata": {},
     "output_type": "execute_result"
    }
   ],
   "source": [
    "df.shape"
   ]
  },
  {
   "cell_type": "markdown",
   "id": "e9a6c2ce",
   "metadata": {},
   "source": [
    "# iloc :- specify number of column , loc :-  specify name of column"
   ]
  },
  {
   "cell_type": "code",
   "execution_count": 10,
   "id": "beef6131",
   "metadata": {},
   "outputs": [
    {
     "data": {
      "text/plain": [
       "array([[ 1],\n",
       "       [ 3],\n",
       "       [ 2],\n",
       "       [ 5],\n",
       "       [10],\n",
       "       [ 7],\n",
       "       [ 5],\n",
       "       [ 4],\n",
       "       [ 5],\n",
       "       [ 8],\n",
       "       [ 1],\n",
       "       [ 9],\n",
       "       [ 5],\n",
       "       [ 4],\n",
       "       [12],\n",
       "       [ 6],\n",
       "       [17],\n",
       "       [ 1],\n",
       "       [ 9],\n",
       "       [10]], dtype=int64)"
      ]
     },
     "execution_count": 10,
     "metadata": {},
     "output_type": "execute_result"
    }
   ],
   "source": [
    "x = df.iloc[:,1:-1].values\n",
    "x"
   ]
  },
  {
   "cell_type": "code",
   "execution_count": 11,
   "id": "6746cb4c",
   "metadata": {},
   "outputs": [
    {
     "data": {
      "text/plain": [
       "array([30450, 35670, 31580, 40130, 47830, 41630, 41340, 37650, 40250,\n",
       "       45150, 27840, 46110, 36720, 34800, 51300, 38900, 63600, 30870,\n",
       "       44190, 48700], dtype=int64)"
      ]
     },
     "execution_count": 11,
     "metadata": {},
     "output_type": "execute_result"
    }
   ],
   "source": [
    "y = df.iloc[:,-1].values\n",
    "y"
   ]
  },
  {
   "cell_type": "code",
   "execution_count": 12,
   "id": "9e8d5cf1",
   "metadata": {},
   "outputs": [
    {
     "data": {
      "text/plain": [
       "experience    int64\n",
       "income        int64\n",
       "dtype: object"
      ]
     },
     "execution_count": 12,
     "metadata": {},
     "output_type": "execute_result"
    }
   ],
   "source": [
    "df1.dtypes"
   ]
  },
  {
   "cell_type": "markdown",
   "id": "52afede0",
   "metadata": {},
   "source": [
    "# If U truely sure u hv to apply  Polynomial Regression then "
   ]
  },
  {
   "cell_type": "markdown",
   "id": "03061e59",
   "metadata": {},
   "source": [
    "# import LinearRegression"
   ]
  },
  {
   "cell_type": "code",
   "execution_count": 13,
   "id": "e84b5d03",
   "metadata": {},
   "outputs": [
    {
     "data": {
      "text/plain": [
       "LinearRegression()"
      ]
     },
     "execution_count": 13,
     "metadata": {},
     "output_type": "execute_result"
    }
   ],
   "source": [
    "from sklearn.linear_model import LinearRegression\n",
    "model1 = LinearRegression()\n",
    "model1.fit(x,y)"
   ]
  },
  {
   "cell_type": "code",
   "execution_count": 14,
   "id": "bed30d8b",
   "metadata": {},
   "outputs": [
    {
     "data": {
      "text/plain": [
       "[<matplotlib.lines.Line2D at 0x138f2fc8520>]"
      ]
     },
     "execution_count": 14,
     "metadata": {},
     "output_type": "execute_result"
    },
    {
     "data": {
      "image/png": "[encoded data removed]",
      "text/plain": [
       "<Figure size 640x480 with 1 Axes>"
      ]
     },
     "metadata": {},
     "output_type": "display_data"
    }
   ],
   "source": [
    "plt.scatter(x,y, color = 'b' , marker = 'D')\n",
    "plt.plot(x,model1.predict (x), color = 'r')"
   ]
  },
  {
   "cell_type": "code",
   "execution_count": 15,
   "id": "2830baf1",
   "metadata": {},
   "outputs": [
    {
     "data": {
      "text/plain": [
       "0.9687020783121727"
      ]
     },
     "execution_count": 15,
     "metadata": {},
     "output_type": "execute_result"
    }
   ],
   "source": [
    "model1.score(x,y)"
   ]
  },
  {
   "cell_type": "code",
   "execution_count": 29,
   "id": "f026a1b6",
   "metadata": {},
   "outputs": [
    {
     "data": {
      "text/plain": [
       "array([34290.56930693])"
      ]
     },
     "execution_count": 29,
     "metadata": {},
     "output_type": "execute_result"
    }
   ],
   "source": [
    "model1.predict([[3]])"
   ]
  },
  {
   "cell_type": "code",
   "execution_count": 18,
   "id": "29a584bf",
   "metadata": {},
   "outputs": [],
   "source": [
    "from sklearn.preprocessing import PolynomialFeatures\n",
    "model = PolynomialFeatures(degree=2)"
   ]
  },
  {
   "cell_type": "markdown",
   "id": "473a8ec4",
   "metadata": {},
   "source": [
    "# Now above cell represent that our object is ready"
   ]
  },
  {
   "cell_type": "code",
   "execution_count": 19,
   "id": "ccd1a545",
   "metadata": {},
   "outputs": [
    {
     "data": {
      "text/plain": [
       "array([[  1.,   1.,   1.],\n",
       "       [  1.,   3.,   9.],\n",
       "       [  1.,   2.,   4.],\n",
       "       [  1.,   5.,  25.],\n",
       "       [  1.,  10., 100.],\n",
       "       [  1.,   7.,  49.],\n",
       "       [  1.,   5.,  25.],\n",
       "       [  1.,   4.,  16.],\n",
       "       [  1.,   5.,  25.],\n",
       "       [  1.,   8.,  64.],\n",
       "       [  1.,   1.,   1.],\n",
       "       [  1.,   9.,  81.],\n",
       "       [  1.,   5.,  25.],\n",
       "       [  1.,   4.,  16.],\n",
       "       [  1.,  12., 144.],\n",
       "       [  1.,   6.,  36.],\n",
       "       [  1.,  17., 289.],\n",
       "       [  1.,   1.,   1.],\n",
       "       [  1.,   9.,  81.],\n",
       "       [  1.,  10., 100.]])"
      ]
     },
     "execution_count": 19,
     "metadata": {},
     "output_type": "execute_result"
    }
   ],
   "source": [
    "fitmodel = model.fit_transform(x)\n",
    "model.fit(fitmodel,y)\n",
    "fitmodel\n",
    "#model2 = LinearRegression()\n",
    "#model2.fit (fitmodel,y)"
   ]
  },
  {
   "cell_type": "markdown",
   "id": "6a2a452e",
   "metadata": {},
   "source": [
    "# Above 3rd column represent the square (transform) of 2 nd column"
   ]
  },
  {
   "cell_type": "code",
   "execution_count": 20,
   "id": "d063aa58",
   "metadata": {},
   "outputs": [
    {
     "data": {
      "text/plain": [
       "LinearRegression()"
      ]
     },
     "execution_count": 20,
     "metadata": {},
     "output_type": "execute_result"
    }
   ],
   "source": [
    "fitmodel = model.fit_transform(x)\n",
    "model.fit(fitmodel,y)\n",
    "fitmodel\n",
    "model2 = LinearRegression()\n",
    "model2.fit (fitmodel,y)"
   ]
  },
  {
   "cell_type": "code",
   "execution_count": 23,
   "id": "34cc13e1",
   "metadata": {},
   "outputs": [
    {
     "data": {
      "text/plain": [
       "<function matplotlib.pyplot.show(close=None, block=None)>"
      ]
     },
     "execution_count": 23,
     "metadata": {},
     "output_type": "execute_result"
    },
    {
     "data": {
      "image/png": "[encoded data removed]",
      "text/plain": [
       "<Figure size 640x480 with 1 Axes>"
      ]
     },
     "metadata": {},
     "output_type": "display_data"
    }
   ],
   "source": [
    "plt.scatter(x,y, color = 'g')\n",
    "\n",
    "plt.plot(x,model2.predict(model.fit_transform(x)))\n",
    "         \n",
    "plt.xlabel('Experience', fontsize = 15)\n",
    "plt.ylabel('Income' , fontsize = 15)\n",
    "plt.title('Experience v/s Income',fontsize = 15)\n",
    "plt.show"
   ]
  },
  {
   "cell_type": "code",
   "execution_count": 28,
   "id": "df4e129a",
   "metadata": {},
   "outputs": [
    {
     "data": {
      "text/plain": [
       "array([38276.7364002])"
      ]
     },
     "execution_count": 28,
     "metadata": {},
     "output_type": "execute_result"
    }
   ],
   "source": [
    "model2.predict(model.fit_transform([[5]]))"
   ]
  },
  {
   "cell_type": "code",
   "execution_count": 27,
   "id": "ed0a95f7",
   "metadata": {},
   "outputs": [
    {
     "data": {
      "text/plain": [
       "array([33320.99322735])"
      ]
     },
     "execution_count": 27,
     "metadata": {},
     "output_type": "execute_result"
    }
   ],
   "source": [
    "model2.predict(model.fit_transform([[2.5]]))"
   ]
  },
  {
   "cell_type": "code",
   "execution_count": 30,
   "id": "02550eaf",
   "metadata": {},
   "outputs": [
    {
     "data": {
      "text/plain": [
       "0.9688053565322997"
      ]
     },
     "execution_count": 30,
     "metadata": {},
     "output_type": "execute_result"
    }
   ],
   "source": [
    "model2.score(fitmodel,y)"
   ]
  },
  {
   "cell_type": "markdown",
   "id": "41080561",
   "metadata": {},
   "source": [
    "# x convert into = fitmodel"
   ]
  },
  {
   "cell_type": "code",
   "execution_count": 41,
   "id": "bc98e9bb",
   "metadata": {},
   "outputs": [],
   "source": [
    "from sklearn.preprocessing import PolynomialFeatures\n",
    "model = PolynomialFeatures(degree=4)"
   ]
  },
  {
   "cell_type": "code",
   "execution_count": 42,
   "id": "b3516831",
   "metadata": {},
   "outputs": [
    {
     "data": {
      "text/plain": [
       "LinearRegression()"
      ]
     },
     "execution_count": 42,
     "metadata": {},
     "output_type": "execute_result"
    }
   ],
   "source": [
    "fitmodel = model.fit_transform(x)\n",
    "model.fit(fitmodel,y)\n",
    "fitmodel\n",
    "model2 = LinearRegression()\n",
    "model2.fit (fitmodel,y)"
   ]
  },
  {
   "cell_type": "code",
   "execution_count": 43,
   "id": "7dd9c4cb",
   "metadata": {},
   "outputs": [
    {
     "data": {
      "text/plain": [
       "<function matplotlib.pyplot.show(close=None, block=None)>"
      ]
     },
     "execution_count": 43,
     "metadata": {},
     "output_type": "execute_result"
    },
    {
     "data": {
      "image/png": "[encoded data removed]",
      "text/plain": [
       "<Figure size 640x480 with 1 Axes>"
      ]
     },
     "metadata": {},
     "output_type": "display_data"
    }
   ],
   "source": [
    "plt.scatter(x,y, color = 'g')\n",
    "\n",
    "plt.plot(x,model2.predict(model.fit_transform(x)))\n",
    "         \n",
    "plt.xlabel('Experience', fontsize = 15)\n",
    "plt.ylabel('Income' , fontsize = 15)\n",
    "plt.title('Experience v/s Income',fontsize = 15)\n",
    "plt.show"
   ]
  },
  {
   "cell_type": "code",
   "execution_count": 44,
   "id": "28e37a93",
   "metadata": {},
   "outputs": [
    {
     "data": {
      "text/plain": [
       "0.9741875526349825"
      ]
     },
     "execution_count": 44,
     "metadata": {},
     "output_type": "execute_result"
    }
   ],
   "source": [
    "model2.score(fitmodel,y)"
   ]
  },
  {
   "cell_type": "markdown",
   "id": "049a0b6e",
   "metadata": {},
   "source": [
    "# AS we increase our degree atleat 3 max 4 "
   ]
  },
  {
   "cell_type": "markdown",
   "id": "f5f87489",
   "metadata": {},
   "source": [
    "# the model score value n predicted value also increase as per accurately"
   ]
  },
  {
   "cell_type": "markdown",
   "id": "d5329436",
   "metadata": {},
   "source": [
    "# At degree 2 we get model2.score = 0.9688053565322997\n"
   ]
  },
  {
   "cell_type": "markdown",
   "id": "f1268d9b",
   "metadata": {},
   "source": [
    "# At degree 3 we get model2.score = 0.9741875526349825\n"
   ]
  },
  {
   "cell_type": "markdown",
   "id": "aa58f8c8",
   "metadata": {},
   "source": [
    "# After degree of 3 < n we get recurssion of this no. = 0.9741875526349825\n"
   ]
  },
  {
   "cell_type": "markdown",
   "id": "c0ba735e",
   "metadata": {},
   "source": [
    "# Hence we conclude"
   ]
  }
 ],
 "metadata": {
  "kernelspec": {
   "display_name": "Python 3 (ipykernel)",
   "language": "python",
   "name": "python3"
  },
  "language_info": {
   "codemirror_mode": {
    "name": "ipython",
    "version": 3
   },
   "file_extension": ".py",
   "mimetype": "text/x-python",
   "name": "python",
   "nbconvert_exporter": "python",
   "pygments_lexer": "ipython3",
   "version": "3.9.13"
  }
 },
 "nbformat": 4,
 "nbformat_minor": 5
}
